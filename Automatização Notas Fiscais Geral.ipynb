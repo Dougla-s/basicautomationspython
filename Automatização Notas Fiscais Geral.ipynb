{
 "cells": [
  {
   "cell_type": "code",
   "execution_count": 1,
   "id": "8abac9bb",
   "metadata": {},
   "outputs": [],
   "source": [
    "import pyautogui\n",
    "import time\n",
    "import pyperclip\n",
    "import pandas as pd\n",
    "\n",
    "pyautogui.PAUSE =1\n",
    "#abrir navegador\n",
    "pyautogui.alert(\"Abrir Chrome\")\n",
    "pyautogui.press(\"winleft\")\n",
    "pyautogui.write(\"chrome\")\n",
    "pyautogui.press(\"enter\")\n",
    "pyautogui.hotkey('ctrl',\"t\")\n",
    "pyautogui.write(\"www.google.com\")\n",
    "pyautogui.press(\"enter\")\n",
    "\n",
    "#Nomeação arquivo (biblioteca) e visualização\n",
    "df = pd.read_excel(r'Caminho\\arquivo.type')\n",
    "display(df)\n",
    "\n",
    "\n",
    "#Nomenclatura de linhas e colunas a variáveis através do FOR\n",
    "i=0\n",
    "infos_NF = {\"CNPJ\": [],\"VALOR APROXIMADO TRIBUTOS\": [],\"ALÍQUOTA\": [],\"VALOR TOTAL DOS SERVIÇOS\": [], \"SENHA\":[]}\n",
    "\n",
    "for i in range (0, len(df)):\n",
    "    for j in df:\n",
    "        df[j][i]\n",
    "        infos_NF[j].append(df[j][i])\n",
    "        print (f\"{df[j][i]}\")\n",
    "\n",
    "#Cadeia de ações com base em automação de teclado e mouse e uso das variáveis anteriormente declaradas\"\n",
    "        \n",
    "for i in range (0, len(df)):\n",
    "\n",
    "    time.sleep(3)\n",
    "    pyautogui.click(716, 419, clicks=2)\n",
    "    pyautogui.write(f\"{infos_NF['CNPJ'][i]}\")\n",
    "    pyautogui.click(725, 636)\n",
    "    pyautogui.write(\"TEXTO DESCRIÇÃO\")\n",
    "        pyautogui.write(f\"{infos_NF['VALOR TOTAL DOS SERVIÇOS'][i]}\")\n",
    "    pyautogui.press(\"enter\")\n",
    "    pyautogui.write(\"TEXTO DESCRIÇÃO (2)\")\n",
    "    pyautogui.write(f\"{infos_NF['VALOR APROXIMADO TRIBUTOS'][i]}\")\n",
    "    pyautogui.click(926,686)\n",
    "    pyautogui.click(898,754)   \n",
    "    pyautogui.click(1290,692)\n",
    "    pyautogui.click(1230,744)  \n",
    "    pyautogui.click(1611,689)\n",
    "    time.sleep(2)\n",
    "    pyautogui.write(\"2\")\n",
    "    pyautogui.click(725, 636)\n",
    "    pyautogui.press(\"pagedown\")\n",
    "    time.sleep(1)\n",
    "    pyautogui.click(644,533) \n",
    "    pyautogui.write(f\"{infos_NF['VALOR TOTAL DOS SERVIÇOS'][i]}\")\n",
    "    time.sleep(1)\n",
    "    pyautogui.click(725, 636)\n",
    "    time.sleep(1)\n",
    "    pyautogui.press(\"pagedown\")\n",
    "    pyautogui.click(1044,738, clicks=2)        \n"
   ]
  },
  {
   "cell_type": "code",
   "execution_count": 11,
   "id": "258238de",
   "metadata": {},
   "outputs": [
    {
     "name": "stdout",
     "output_type": "stream",
     "text": [
      "Point(x=-457, y=569)\n"
     ]
    }
   ],
   "source": [
    "# Complementos\n",
    "\n",
    "time.sleep(3)\n",
    "print(pyautogui.position()) "
   ]
  }
 ],
 "metadata": {
  "kernelspec": {
   "display_name": "Python 3 (ipykernel)",
   "language": "python",
   "name": "python3"
  },
  "language_info": {
   "codemirror_mode": {
    "name": "ipython",
    "version": 3
   },
   "file_extension": ".py",
   "mimetype": "text/x-python",
   "name": "python",
   "nbconvert_exporter": "python",
   "pygments_lexer": "ipython3",
   "version": "3.9.7"
  }
 },
 "nbformat": 4,
 "nbformat_minor": 5
}
